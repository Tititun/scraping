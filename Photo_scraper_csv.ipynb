{
 "cells": [
  {
   "cell_type": "markdown",
   "metadata": {},
   "source": [
    "Сначала импортируем необходимые модули"
   ]
  },
  {
   "cell_type": "code",
   "execution_count": null,
   "metadata": {
    "pycharm": {
     "name": "#%%\n"
    }
   },
   "outputs": [],
   "source": [
    "import requests\n",
    "from bs4 import BeautifulSoup\n",
    "import time\n",
    "import csv"
   ]
  },
  {
   "cell_type": "markdown",
   "metadata": {},
   "source": [
    "Задаем переменные для ссылок.  \n",
    "url - основная ссылка   \n",
    "urlstub - ссылка для прикрепления аттрибутов href."
   ]
  },
  {
   "cell_type": "code",
   "execution_count": null,
   "metadata": {
    "pycharm": {
     "name": "#%%\n"
    }
   },
   "outputs": [],
   "source": [
    "urlstub = 'https://www.wdl.org'\n",
    "url = 'https://www.wdl.org/ru/search/?item_type=print-photograph#1'"
   ]
  },
  {
   "cell_type": "markdown",
   "metadata": {
    "jupyter": {
     "outputs_hidden": false
    },
    "pycharm": {
     "name": "#%%\n"
    }
   },
   "source": [
    "Создаем запрос на нашу главную ссылку и делаем из ответа BeautifulSoup.  \n",
    "Извлекаем из него необходимые для нас ссылки, присваиваем списку ссылок имя titles."
   ]
  },
  {
   "cell_type": "code",
   "execution_count": null,
   "metadata": {},
   "outputs": [],
   "source": [
    "r = requests.get(url)\n",
    "bs = BeautifulSoup(r.text, 'html.parser')\n",
    "titles = bs.select('a.title')"
   ]
  },
  {
   "cell_type": "markdown",
   "metadata": {},
   "source": [
    "Создаем csv файл с заголовками, куда будем всё сохранять."
   ]
  },
  {
   "cell_type": "code",
   "execution_count": null,
   "metadata": {},
   "outputs": [],
   "source": [
    "csv_columns = ['Название', 'Время создания', 'Период', 'Место']\n",
    "with open('pictures.csv', 'a', encoding='utf-8') as pic:\n",
    "    writer = csv.DictWriter(pic, fieldnames=csv_columns)\n",
    "    writer.writeheader()"
   ]
  },
  {
   "cell_type": "markdown",
   "metadata": {},
   "source": [
    "Создаем функцию которая будет проходиться по каждой ссылке и извдекать нужную для нас информацию, записывая в файл pictures.json.  \n",
    "Между переходами по ссылкам установлена задержка в 0.33 секунды, чтобы не перенагружать сервер запросами."
   ]
  },
  {
   "cell_type": "code",
   "execution_count": null,
   "metadata": {},
   "outputs": [],
   "source": [
    "def title_parser(title_list):\n",
    "    for title in titles:\n",
    "        time.sleep(0.33)\n",
    "\n",
    "        photolink = urlstub + title.attrs['href']\n",
    "        r = requests.get(photolink)\n",
    "        bs = BeautifulSoup(r.text, 'html.parser')\n",
    "\n",
    "        picture = {}\n",
    "        picture['Название'] = bs.select_one('h1#page-title').text.strip()\n",
    "        picture['Время создания'] = bs.select_one('time[itemprop=\"dateCreated\"]').attrs['datetime']\n",
    "        picture['Период'] = bs.select_one('div#subject-date time').attrs['datetime']\n",
    "        places = bs.select('div#places ul li')\n",
    "        picture['Место'] = [place.text.strip().replace('\\n', ', ') for place in places]\n",
    "        csv_columns = ['Название', 'Время создания', 'Период', 'Место']\n",
    "\n",
    "        with open('pictures.csv', 'a', encoding='utf-8') as pic:\n",
    "            writer = csv.DictWriter(pic, fieldnames=csv_columns)\n",
    "            writer.writerow(picture)\n",
    "            print('Сохранено: ' + picture['Название'])"
   ]
  },
  {
   "cell_type": "markdown",
   "metadata": {},
   "source": [
    "Запускаем эту функцию с нашим листом ссылок."
   ]
  },
  {
   "cell_type": "code",
   "execution_count": null,
   "metadata": {},
   "outputs": [],
   "source": [
    "title_parser(titles)"
   ]
  },
  {
   "cell_type": "markdown",
   "metadata": {},
   "source": [
    "Выводим для пользователя количество сохраненных ссылок.  \n",
    "Генерируем ссылку для следующей страницы."
   ]
  },
  {
   "cell_type": "code",
   "execution_count": null,
   "metadata": {},
   "outputs": [],
   "source": [
    "total_saved = len(titles)\n",
    "print('сохранено ' + str(total_saved) + ' фото')\n",
    "next_page = 2\n",
    "next_stub = 'https://www.wdl.org/ru/search/?item_type=print-photograph&page='\n",
    "next_link = next_stub +str(next_page)"
   ]
  },
  {
   "cell_type": "markdown",
   "metadata": {},
   "source": [
    "Дальше продолжаем загружать страницы и переходить по ссылкам с фотографиями, извлекая необходимую информацию.\n",
    "Страницы будут загружаться до тех пор, пока не останется новых страниц.\n",
    "Если хотим загрузить меньше страниц, то раскомменчиваем фрагмент и указываем нужное число страниц (на одну страницу приходится 42 фото):\n",
    "if next_page == 6:  \n",
    "&nbsp;&nbsp;&nbsp;&nbsp;   print('Сохранено пять страниц, хватит')  \n",
    "&nbsp;&nbsp;&nbsp;&nbsp;   break  \n",
    "Если этих строчек нет, то будут сохранены данные обо всех фотографиях на примерно 200 страницах."
   ]
  },
  {
   "cell_type": "code",
   "execution_count": null,
   "metadata": {},
   "outputs": [],
   "source": [
    "while True:\n",
    "    r = requests.get(next_link)\n",
    "    if r.status_code != 200:\n",
    "        print('Следующей страницы не существует')\n",
    "        break\n",
    "    bs = BeautifulSoup(r.text, 'html.parser')\n",
    "    titles = bs.select('a.title')\n",
    "    title_parser(titles)\n",
    "    total_saved += len(titles)\n",
    "    print('сохранено ' + str(total_saved) + ' фото')\n",
    "\n",
    "    next_page += 1\n",
    "#     if next_page == 4:\n",
    "#         print('Сохранено пять страниц, хватит')\n",
    "#         break\n",
    "    next_link = next_stub + str(next_page)"
   ]
  }
 ],
 "metadata": {
  "kernelspec": {
   "display_name": "Python 3",
   "language": "python",
   "name": "python3"
  },
  "language_info": {
   "codemirror_mode": {
    "name": "ipython",
    "version": 3
   },
   "file_extension": ".py",
   "mimetype": "text/x-python",
   "name": "python",
   "nbconvert_exporter": "python",
   "pygments_lexer": "ipython3",
   "version": "3.9.1"
  }
 },
 "nbformat": 4,
 "nbformat_minor": 4
}
